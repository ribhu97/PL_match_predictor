{
 "cells": [
  {
   "cell_type": "markdown",
   "metadata": {},
   "source": [
    "### PL match prediction toolkit 18-19"
   ]
  },
  {
   "cell_type": "code",
   "execution_count": 2,
   "metadata": {},
   "outputs": [],
   "source": [
    "import numpy as np\n",
    "import pandas as pd\n",
    "import re\n",
    "import os"
   ]
  },
  {
   "cell_type": "code",
   "execution_count": 3,
   "metadata": {},
   "outputs": [],
   "source": [
    "#DATASETS\n",
    "season13 = pd.read_csv('./pl_1314.csv')\n",
    "season14 = pd.read_csv('./pl_1415.csv')\n",
    "season15 = pd.read_csv('./pl_1516.csv')\n",
    "season16 = pd.read_csv('./pl_1617.csv')\n",
    "season17 = pd.read_csv('./pl_1718.csv')\n",
    "season18 = pd.read_csv('./pl_1819.csv')\n",
    "manu13 = season13[season13['HomeTeam']=='Man United']\n",
    "manu14 = season14[season14['HomeTeam']=='Man United']\n",
    "manu15 = season15[season15['HomeTeam']=='Man United']\n",
    "manu16 = season16[season16['HomeTeam']=='Man United']\n",
    "manu17 = season17[season17['HomeTeam']=='Man United']\n",
    "manu18 = season18[season18['HomeTeam']=='Man United']\n",
    "cp13 = season13[season13['AwayTeam']=='Crystal Palace']\n",
    "cp14 = season14[season14['AwayTeam']=='Crystal Palace']\n",
    "cp15 = season15[season15['AwayTeam']=='Crystal Palace']\n",
    "cp16 = season16[season16['AwayTeam']=='Crystal Palace']\n",
    "cp17 = season17[season17['AwayTeam']=='Crystal Palace']\n",
    "cp18 = season18[season18['AwayTeam']=='Crystal Palace']"
   ]
  },
  {
   "cell_type": "code",
   "execution_count": 4,
   "metadata": {},
   "outputs": [],
   "source": [
    "#GLOBAL_VARS\n",
    "top_6 = ['Arsenal','Chelsea','Man United','Man City','Liverpool','Tottenham']"
   ]
  },
  {
   "cell_type": "markdown",
   "metadata": {},
   "source": [
    "### Goal prediction (Future)\n",
    "1. Goals scored at half-time and full-time\n",
    "2. Correlation between the two\n",
    "3. Goal-scorer probability (future functionality)"
   ]
  },
  {
   "cell_type": "markdown",
   "metadata": {},
   "source": [
    "### Result prediction\n",
    "1. Correlation between half-time result and full-time result\n",
    "2. Use that and goal prediction to predict final result"
   ]
  },
  {
   "cell_type": "code",
   "execution_count": 5,
   "metadata": {},
   "outputs": [
    {
     "name": "stdout",
     "output_type": "stream",
     "text": [
      "Season 13-14 Pearson Correlation Coefficient:  0.7629214573184812 and a P-value of: 0.0001452794242831673\n",
      "Season 14-15 Pearson Correlation Coefficient:  0.8281043428947151 and a P-value of: 1.199623056045885e-05\n",
      "Season 15-16 Pearson Correlation Coefficient:  0.5991554313992178 and a P-value of: 0.006709222088954412\n",
      "Season 16-17 Pearson Correlation Coefficient:  0.7578742354141914 and a P-value of: 0.0001705358084793662\n",
      "Season 17-18 Pearson Correlation Coefficient:  0.5849043470842863 and a P-value of: 0.008526772152279672\n",
      "Season 18-19 Pearson Correlation Coefficient:  0.0 and a P-value of: 1.0\n",
      "Mean squared error: 0.82\n",
      "Variance score: 0.31\n",
      "0 1st goal : [0.82773781], 1 1st goal : [1.78916867] , 2 1st half goals : [2.75059952] , 3 1st half goals : [3.71203038]\n",
      "0.8080808080808081\n",
      "for 0.8080808080808081 goals in the first half there is a chance of ending with [1.60465163] goals\n"
     ]
    }
   ],
   "source": [
    "from scipy import stats\n",
    "from sklearn.model_selection import train_test_split\n",
    "from sklearn import linear_model\n",
    "from sklearn.metrics import mean_squared_error, r2_score\n",
    "\n",
    "htg1 = manu13['HTHG']\n",
    "ftg1 = manu13['FTHG']\n",
    "pearson_coef, p_value = stats.pearsonr(ftg1, htg1)\n",
    "print(\"Season 13-14 Pearson Correlation Coefficient: \", pearson_coef, \"and a P-value of:\", p_value)\n",
    "\n",
    "htg2 = manu14['HTHG']\n",
    "ftg2 = manu14['FTHG']\n",
    "pearson_coef, p_value = stats.pearsonr(ftg2, htg2)\n",
    "print(\"Season 14-15 Pearson Correlation Coefficient: \", pearson_coef, \"and a P-value of:\", p_value)\n",
    "\n",
    "htg3 = manu15['HTHG']\n",
    "ftg3 = manu15['FTHG']\n",
    "pearson_coef, p_value = stats.pearsonr(ftg3, htg3)\n",
    "print(\"Season 15-16 Pearson Correlation Coefficient: \", pearson_coef, \"and a P-value of:\", p_value)\n",
    "\n",
    "htg4 = manu16['HTHG']\n",
    "ftg4 = manu16['FTHG']\n",
    "pearson_coef, p_value = stats.pearsonr(ftg4, htg4)\n",
    "print(\"Season 16-17 Pearson Correlation Coefficient: \", pearson_coef, \"and a P-value of:\", p_value)\n",
    "\n",
    "htg5 = manu17['HTHG']\n",
    "ftg5 = manu17['FTHG']\n",
    "pearson_coef, p_value = stats.pearsonr(ftg5, htg5)\n",
    "print(\"Season 17-18 Pearson Correlation Coefficient: \", pearson_coef, \"and a P-value of:\", p_value)\n",
    "\n",
    "htg6 = manu18['HTHG']\n",
    "ftg6 = manu18['FTHG']\n",
    "pearson_coef, p_value = stats.pearsonr(ftg6, htg6)\n",
    "print(\"Season 18-19 Pearson Correlation Coefficient: \", pearson_coef, \"and a P-value of:\", p_value)\n",
    "\n",
    "x = np.append(htg1.values,htg2.values)\n",
    "x = np.append(x,htg3.values)               \n",
    "x = np.append(x,htg4.values)\n",
    "x = np.append(x,htg5.values)\n",
    "x = np.append(x,htg6.values)\n",
    "\n",
    "y = np.append(ftg1.values,ftg2.values)\n",
    "y = np.append(y,ftg3.values)               \n",
    "y = np.append(y,ftg4.values)\n",
    "y = np.append(y,ftg5.values)\n",
    "y = np.append(y,ftg6.values)\n",
    "\n",
    "X_train, X_test, y_train, y_test = train_test_split(x, y, test_size=0.20, random_state=7)\n",
    "\n",
    "reg = linear_model.LinearRegression()\n",
    "reg.fit(X_train.reshape(-1, 1), y_train)\n",
    "y_pred = reg.predict(X_test.reshape(-1, 1))\n",
    "print(\"Mean squared error: %.2f\"\n",
    "      % mean_squared_error(y_test, y_pred))\n",
    "print('Variance score: %.2f' % r2_score(y_test, y_pred))\n",
    "print(\"0 1st goal : {}, 1 1st goal : {} , 2 1st half goals : {} , 3 1st half goals : {}\".format(reg.predict(0),reg.predict(1),reg.predict(2),reg.predict(3)))\n",
    "print(np.mean(x))\n",
    "print('for {} goals in the first half there is a chance of ending with {} goals'.format(np.mean(x),reg.predict(np.mean(x))))"
   ]
  },
  {
   "cell_type": "code",
   "execution_count": 8,
   "metadata": {},
   "outputs": [
    {
     "name": "stdout",
     "output_type": "stream",
     "text": [
      "Season 13-14 Pearson Correlation Coefficient:  0.4997703788627466 and a P-value of: 0.029344185472543725\n",
      "Season 14-15 Pearson Correlation Coefficient:  0.35329376572383614 and a P-value of: 0.13787162282710108\n",
      "Season 15-16 Pearson Correlation Coefficient:  0.7171013761229083 and a P-value of: 0.0005492738015633206\n",
      "Season 16-17 Pearson Correlation Coefficient:  0.4244373438135828 and a P-value of: 0.0701058087932909\n",
      "Season 17-18 Pearson Correlation Coefficient:  0.6234441245238125 and a P-value of: 0.0043441568696549054\n",
      "Season 18-19 Pearson Correlation Coefficient:  0.5773502691896258 and a P-value of: 0.4226497308103741\n",
      "Mean squared error: 0.68\n",
      "Variance score: 0.45\n",
      "0 1st goal : [1.00282326], 1 1st goal : [1.85234331] , 2 1st half goals : [2.70186335] , 3 1st half goals : [3.5513834]\n",
      "0.6060606060606061\n",
      "for 0.6060606060606061 goals in the first half there is a chance of ending with [1.5176839] goals\n"
     ]
    }
   ],
   "source": [
    "from scipy import stats\n",
    "from sklearn.model_selection import train_test_split\n",
    "from sklearn import linear_model\n",
    "from sklearn.metrics import mean_squared_error, r2_score\n",
    "\n",
    "htg1 = cp13['HTHG']\n",
    "ftg1 = cp13['FTHG']\n",
    "pearson_coef, p_value = stats.pearsonr(ftg1, htg1)\n",
    "print(\"Season 13-14 Pearson Correlation Coefficient: \", pearson_coef, \"and a P-value of:\", p_value)\n",
    "\n",
    "htg2 = cp14['HTHG']\n",
    "ftg2 = cp14['FTHG']\n",
    "pearson_coef, p_value = stats.pearsonr(ftg2, htg2)\n",
    "print(\"Season 14-15 Pearson Correlation Coefficient: \", pearson_coef, \"and a P-value of:\", p_value)\n",
    "\n",
    "htg3 = cp15['HTHG']\n",
    "ftg3 = cp15['FTHG']\n",
    "pearson_coef, p_value = stats.pearsonr(ftg3, htg3)\n",
    "print(\"Season 15-16 Pearson Correlation Coefficient: \", pearson_coef, \"and a P-value of:\", p_value)\n",
    "\n",
    "htg4 = cp16['HTHG']\n",
    "ftg4 = cp16['FTHG']\n",
    "pearson_coef, p_value = stats.pearsonr(ftg4, htg4)\n",
    "print(\"Season 16-17 Pearson Correlation Coefficient: \", pearson_coef, \"and a P-value of:\", p_value)\n",
    "\n",
    "htg5 = cp17['HTHG']\n",
    "ftg5 = cp17['FTHG']\n",
    "pearson_coef, p_value = stats.pearsonr(ftg5, htg5)\n",
    "print(\"Season 17-18 Pearson Correlation Coefficient: \", pearson_coef, \"and a P-value of:\", p_value)\n",
    "\n",
    "htg6 = cp18['HTHG']\n",
    "ftg6 = cp18['FTHG']\n",
    "pearson_coef, p_value = stats.pearsonr(ftg6, htg6)\n",
    "print(\"Season 18-19 Pearson Correlation Coefficient: \", pearson_coef, \"and a P-value of:\", p_value)\n",
    "\n",
    "x = np.append(htg1.values,htg2.values)\n",
    "x = np.append(x,htg3.values)               \n",
    "x = np.append(x,htg4.values)\n",
    "x = np.append(x,htg5.values)\n",
    "x = np.append(x,htg6.values)\n",
    "\n",
    "y = np.append(ftg1.values,ftg2.values)\n",
    "y = np.append(y,ftg3.values)               \n",
    "y = np.append(y,ftg4.values)\n",
    "y = np.append(y,ftg5.values)\n",
    "y = np.append(y,ftg6.values)\n",
    "\n",
    "X_train, X_test, y_train, y_test = train_test_split(x, y, test_size=0.20, random_state=7)\n",
    "\n",
    "reg = linear_model.LinearRegression()\n",
    "reg.fit(X_train.reshape(-1, 1), y_train)\n",
    "y_pred = reg.predict(X_test.reshape(-1, 1))\n",
    "print(\"Mean squared error: %.2f\"\n",
    "      % mean_squared_error(y_test, y_pred))\n",
    "print('Variance score: %.2f' % r2_score(y_test, y_pred))\n",
    "print(\"0 1st goal : {}, 1 1st goal : {} , 2 1st half goals : {} , 3 1st half goals : {}\".format(reg.predict(0),reg.predict(1),reg.predict(2),reg.predict(3)))\n",
    "print(np.mean(x))\n",
    "print('for {} goals in the first half there is a chance of ending with {} goals'.format(np.mean(x),reg.predict(np.mean(x))))"
   ]
  },
  {
   "cell_type": "markdown",
   "metadata": {},
   "source": [
    "### Final Thoughts\n",
    "From the above we can infer that Manchester United almost always score a goal before half-time and that leads them on to score 2 by the final whistle. Crystal Palace have high variability in their results away from home. There is a chance they might score 1 before half-time, but United at home might pull through. Score Pr"
   ]
  },
  {
   "cell_type": "code",
   "execution_count": null,
   "metadata": {},
   "outputs": [],
   "source": []
  }
 ],
 "metadata": {
  "kernelspec": {
   "display_name": "Python 3",
   "language": "python",
   "name": "python3"
  },
  "language_info": {
   "codemirror_mode": {
    "name": "ipython",
    "version": 3
   },
   "file_extension": ".py",
   "mimetype": "text/x-python",
   "name": "python",
   "nbconvert_exporter": "python",
   "pygments_lexer": "ipython3",
   "version": "3.6.4"
  }
 },
 "nbformat": 4,
 "nbformat_minor": 2
}
