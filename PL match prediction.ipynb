{
 "cells": [
  {
   "cell_type": "markdown",
   "metadata": {},
   "source": [
    "### PL match prediction toolkit 18-19"
   ]
  },
  {
   "cell_type": "code",
   "execution_count": 1,
   "metadata": {},
   "outputs": [],
   "source": [
    "import numpy as np\n",
    "import pandas as pd\n",
    "import re\n",
    "import os"
   ]
  },
  {
   "cell_type": "code",
   "execution_count": 2,
   "metadata": {},
   "outputs": [],
   "source": [
    "#DATASETS\n",
    "season15 = pd.read_csv('./pl_1516.csv')\n",
    "season16 = pd.read_csv('./pl_1617.csv')\n",
    "season17 = pd.read_csv('./pl_1718.csv')\n",
    "season18 = pd.read_csv('./pl_1819.csv')\n",
    "chels15 = season15[season15['HomeTeam']=='Chelsea']\n",
    "chels16 = season16[season16['HomeTeam']=='Chelsea']\n",
    "chels17 = season17[season17['HomeTeam']=='Chelsea']\n",
    "chels18 = season18[season18['HomeTeam']=='Chelsea']\n",
    "manu15 = season15[season15['AwayTeam']=='Man United']\n",
    "manu16 = season16[season16['AwayTeam']=='Man United']\n",
    "manu17 = season17[season17['AwayTeam']=='Man United']\n",
    "manu18 = season18[season18['AwayTeam']=='Man United']"
   ]
  },
  {
   "cell_type": "code",
   "execution_count": 3,
   "metadata": {},
   "outputs": [],
   "source": [
    "#GLOBAL_VARS\n",
    "top_6 = ['Arsenal','Chelsea','Man United','Man City','Liverpool','Tottenham']"
   ]
  },
  {
   "cell_type": "markdown",
   "metadata": {},
   "source": [
    "### Goal prediction (Future)\n",
    "1. Goals scored at half-time and full-time\n",
    "2. Correlation between the two\n",
    "3. Goal-scorer probability (future functionality)"
   ]
  },
  {
   "cell_type": "markdown",
   "metadata": {},
   "source": [
    "### Result prediction\n",
    "1. Correlation between half-time result and full-time result\n",
    "2. Use that and goal prediction to predict final result"
   ]
  },
  {
   "cell_type": "code",
   "execution_count": 22,
   "metadata": {},
   "outputs": [
    {
     "name": "stdout",
     "output_type": "stream",
     "text": [
      "Season 15-16 Pearson Correlation Coefficient:  0.6838999783469333 and a P-value of: 0.001242632481018561\n",
      "Season 16-17 Pearson Correlation Coefficient:  0.6341783247341258 and a P-value of: 0.0035444496578109284\n",
      "Season 17-18 Pearson Correlation Coefficient:  0.7121188849591293 and a P-value of: 0.0006252068093845607\n",
      "Season 18-19 Pearson Correlation Coefficient:  0.674199862463242 and a P-value of: 0.325800137536758\n",
      "Mean squared error: 0.53\n",
      "Variance score: 0.46\n",
      "0 1st goal : [0.97115385], 1 1st goal : [2.10576923] , 2 1st half goals : [3.24038462] , 3 1st half goals : [4.375]\n",
      "0.9672131147540983\n"
     ]
    }
   ],
   "source": [
    "from scipy import stats\n",
    "from sklearn.cross_validation import train_test_split\n",
    "from sklearn import linear_model\n",
    "from sklearn.metrics import mean_squared_error, r2_score\n",
    "\n",
    "htg1 = chels15['HTHG']\n",
    "ftg1 = chels15['FTHG']\n",
    "pearson_coef, p_value = stats.pearsonr(ftg1, htg1)\n",
    "print(\"Season 15-16 Pearson Correlation Coefficient: \", pearson_coef, \"and a P-value of:\", p_value)\n",
    "\n",
    "htg2 = chels16['HTHG']\n",
    "ftg2 = chels16['FTHG']\n",
    "pearson_coef, p_value = stats.pearsonr(ftg2, htg2)\n",
    "print(\"Season 16-17 Pearson Correlation Coefficient: \", pearson_coef, \"and a P-value of:\", p_value)\n",
    "\n",
    "htg3 = chels17['HTHG']\n",
    "ftg3 = chels17['FTHG']\n",
    "pearson_coef, p_value = stats.pearsonr(ftg3, htg3)\n",
    "print(\"Season 17-18 Pearson Correlation Coefficient: \", pearson_coef, \"and a P-value of:\", p_value)\n",
    "\n",
    "htg4 = chels18['HTHG']\n",
    "ftg4 = chels18['FTHG']\n",
    "pearson_coef, p_value = stats.pearsonr(ftg4, htg4)\n",
    "print(\"Season 18-19 Pearson Correlation Coefficient: \", pearson_coef, \"and a P-value of:\", p_value)\n",
    "\n",
    "x = np.append(htg1.values,htg2.values)\n",
    "x = np.append(x,htg3.values)               \n",
    "x = np.append(x,htg4.values)\n",
    "\n",
    "y = np.append(ftg1.values,ftg2.values)\n",
    "y = np.append(y,ftg3.values)               \n",
    "y = np.append(y,ftg4.values)\n",
    "\n",
    "X_train, X_test, y_train, y_test = train_test_split(x, y, test_size=0.20, random_state=7)\n",
    "\n",
    "reg = linear_model.LinearRegression()\n",
    "reg.fit(X_train.reshape(-1, 1), y_train)\n",
    "y_pred = reg.predict(X_test.reshape(-1, 1))\n",
    "print(\"Mean squared error: %.2f\"\n",
    "      % mean_squared_error(y_test, y_pred))\n",
    "print('Variance score: %.2f' % r2_score(y_test, y_pred))\n",
    "print(\"0 1st goal : {}, 1 1st goal : {} , 2 1st half goals : {} , 3 1st half goals : {}\".format(reg.predict(0),reg.predict(1),reg.predict(2),reg.predict(3)))\n",
    "print(np.mean(x))"
   ]
  },
  {
   "cell_type": "code",
   "execution_count": 21,
   "metadata": {},
   "outputs": [
    {
     "name": "stdout",
     "output_type": "stream",
     "text": [
      "Season 15-16 Pearson Correlation Coefficient:  0.6233022919309995 and a P-value of: 0.00435563918582842\n",
      "Season 16-17 Pearson Correlation Coefficient:  0.8192142152786321 and a P-value of: 1.7832990772701994e-05\n",
      "Season 17-18 Pearson Correlation Coefficient:  0.7340746189717277 and a P-value of: 0.00034612470519705706\n",
      "Season 18-19 Pearson Correlation Coefficient:  0.9259259259259259 and a P-value of: 0.0740740740740741\n",
      "Mean squared error: 0.44\n",
      "Variance score: 0.59\n",
      "0 1st goal : [0.69607843],1 1st goal : [1.6372549] , 2 1st half goals : [2.57843137] , 3 1st half goals : [3.51960784]\n",
      "0.4918032786885246\n"
     ]
    }
   ],
   "source": [
    "htg1 = manu15['HTHG']\n",
    "ftg1 = manu15['FTHG']\n",
    "pearson_coef, p_value = stats.pearsonr(ftg1, htg1)\n",
    "print(\"Season 15-16 Pearson Correlation Coefficient: \", pearson_coef, \"and a P-value of:\", p_value)\n",
    "\n",
    "htg2 = manu16['HTHG']\n",
    "ftg2 = manu16['FTHG']\n",
    "pearson_coef, p_value = stats.pearsonr(ftg2, htg2)\n",
    "print(\"Season 16-17 Pearson Correlation Coefficient: \", pearson_coef, \"and a P-value of:\", p_value)\n",
    "\n",
    "htg3 = manu17['HTHG']\n",
    "ftg3 = manu17['FTHG']\n",
    "pearson_coef, p_value = stats.pearsonr(ftg3, htg3)\n",
    "print(\"Season 17-18 Pearson Correlation Coefficient: \", pearson_coef, \"and a P-value of:\", p_value)\n",
    "\n",
    "htg4 = manu18['HTHG']\n",
    "ftg4 = manu18['FTHG']\n",
    "pearson_coef, p_value = stats.pearsonr(ftg4, htg4)\n",
    "print(\"Season 18-19 Pearson Correlation Coefficient: \", pearson_coef, \"and a P-value of:\", p_value)\n",
    "\n",
    "x = np.append(htg1.values,htg2.values)\n",
    "x = np.append(x,htg3.values)               \n",
    "x = np.append(x,htg4.values)\n",
    "\n",
    "y = np.append(ftg1.values,ftg2.values)\n",
    "y = np.append(y,ftg3.values)               \n",
    "y = np.append(y,ftg4.values)\n",
    "\n",
    "X_train, X_test, y_train, y_test = train_test_split(x, y, test_size=0.20, random_state=7)\n",
    "\n",
    "\n",
    "reg = linear_model.LinearRegression()\n",
    "reg.fit(X_train.reshape(-1, 1), y_train)\n",
    "y_pred = reg.predict(X_test.reshape(-1, 1))\n",
    "print(\"Mean squared error: %.2f\"\n",
    "      % mean_squared_error(y_test, y_pred))\n",
    "print('Variance score: %.2f' % r2_score(y_test, y_pred))\n",
    "print(\"0 1st goal : {},1 1st goal : {} , 2 1st half goals : {} , 3 1st half goals : {}\".format(reg.predict(0),reg.predict(1),reg.predict(2),reg.predict(3)))\n",
    "print(np.mean(x))"
   ]
  },
  {
   "cell_type": "markdown",
   "metadata": {},
   "source": [
    "### Final Thoughts\n",
    "Given the above values we see that Chelsea usually score 1 goal before half-time at home, which leads to an average 2 goals at full-time. The final result usually depends on the half-time score 70% of the time. \n",
    "Now, Man United away from home have a trend of scoring 0 goals before half-time away from home, which leads to an average of barely 1 goal. This is not helped by the fact that under Mourinho the result depends on the first half 83% of the time.\n",
    "Which gives the final prediction to be 2-1 to Chelsea."
   ]
  },
  {
   "cell_type": "code",
   "execution_count": null,
   "metadata": {},
   "outputs": [],
   "source": []
  }
 ],
 "metadata": {
  "kernelspec": {
   "display_name": "Python 3",
   "language": "python",
   "name": "python3"
  },
  "language_info": {
   "codemirror_mode": {
    "name": "ipython",
    "version": 3
   },
   "file_extension": ".py",
   "mimetype": "text/x-python",
   "name": "python",
   "nbconvert_exporter": "python",
   "pygments_lexer": "ipython3",
   "version": "3.6.4"
  }
 },
 "nbformat": 4,
 "nbformat_minor": 2
}
